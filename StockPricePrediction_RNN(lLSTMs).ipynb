{
 "cells": [
  {
   "cell_type": "code",
   "execution_count": 59,
   "id": "c2ea4fc5",
   "metadata": {},
   "outputs": [],
   "source": [
    "import pandas as pd\n",
    "import numpy as np \n",
    "import matplotlib.pyplot as plt"
   ]
  },
  {
   "cell_type": "markdown",
   "id": "7db031be",
   "metadata": {},
   "source": [
    "# Data Pre processing"
   ]
  },
  {
   "cell_type": "code",
   "execution_count": 2,
   "id": "15a45b04",
   "metadata": {},
   "outputs": [],
   "source": [
    "stock_train= pd.read_csv('Google_Stock_Price_Train.csv')\n"
   ]
  },
  {
   "cell_type": "code",
   "execution_count": 3,
   "id": "a6facda7",
   "metadata": {},
   "outputs": [
    {
     "data": {
      "text/html": [
       "<div>\n",
       "<style scoped>\n",
       "    .dataframe tbody tr th:only-of-type {\n",
       "        vertical-align: middle;\n",
       "    }\n",
       "\n",
       "    .dataframe tbody tr th {\n",
       "        vertical-align: top;\n",
       "    }\n",
       "\n",
       "    .dataframe thead th {\n",
       "        text-align: right;\n",
       "    }\n",
       "</style>\n",
       "<table border=\"1\" class=\"dataframe\">\n",
       "  <thead>\n",
       "    <tr style=\"text-align: right;\">\n",
       "      <th></th>\n",
       "      <th>Date</th>\n",
       "      <th>Open</th>\n",
       "      <th>High</th>\n",
       "      <th>Low</th>\n",
       "      <th>Close</th>\n",
       "      <th>Volume</th>\n",
       "    </tr>\n",
       "  </thead>\n",
       "  <tbody>\n",
       "    <tr>\n",
       "      <th>0</th>\n",
       "      <td>1/3/2012</td>\n",
       "      <td>325.25</td>\n",
       "      <td>332.83</td>\n",
       "      <td>324.97</td>\n",
       "      <td>663.59</td>\n",
       "      <td>7,380,500</td>\n",
       "    </tr>\n",
       "    <tr>\n",
       "      <th>1</th>\n",
       "      <td>1/4/2012</td>\n",
       "      <td>331.27</td>\n",
       "      <td>333.87</td>\n",
       "      <td>329.08</td>\n",
       "      <td>666.45</td>\n",
       "      <td>5,749,400</td>\n",
       "    </tr>\n",
       "    <tr>\n",
       "      <th>2</th>\n",
       "      <td>1/5/2012</td>\n",
       "      <td>329.83</td>\n",
       "      <td>330.75</td>\n",
       "      <td>326.89</td>\n",
       "      <td>657.21</td>\n",
       "      <td>6,590,300</td>\n",
       "    </tr>\n",
       "    <tr>\n",
       "      <th>3</th>\n",
       "      <td>1/6/2012</td>\n",
       "      <td>328.34</td>\n",
       "      <td>328.77</td>\n",
       "      <td>323.68</td>\n",
       "      <td>648.24</td>\n",
       "      <td>5,405,900</td>\n",
       "    </tr>\n",
       "    <tr>\n",
       "      <th>4</th>\n",
       "      <td>1/9/2012</td>\n",
       "      <td>322.04</td>\n",
       "      <td>322.29</td>\n",
       "      <td>309.46</td>\n",
       "      <td>620.76</td>\n",
       "      <td>11,688,800</td>\n",
       "    </tr>\n",
       "  </tbody>\n",
       "</table>\n",
       "</div>"
      ],
      "text/plain": [
       "       Date    Open    High     Low   Close      Volume\n",
       "0  1/3/2012  325.25  332.83  324.97  663.59   7,380,500\n",
       "1  1/4/2012  331.27  333.87  329.08  666.45   5,749,400\n",
       "2  1/5/2012  329.83  330.75  326.89  657.21   6,590,300\n",
       "3  1/6/2012  328.34  328.77  323.68  648.24   5,405,900\n",
       "4  1/9/2012  322.04  322.29  309.46  620.76  11,688,800"
      ]
     },
     "execution_count": 3,
     "metadata": {},
     "output_type": "execute_result"
    }
   ],
   "source": [
    "stock_train.head()"
   ]
  },
  {
   "cell_type": "code",
   "execution_count": 4,
   "id": "c931465a",
   "metadata": {},
   "outputs": [],
   "source": [
    "#in this we are going to predict the stock price for begining of a finiancfial day"
   ]
  },
  {
   "cell_type": "code",
   "execution_count": 5,
   "id": "3f1f81b4",
   "metadata": {},
   "outputs": [],
   "source": [
    "stock_training_set = stock_train.iloc[:,1:2].values #this will create a numpy array as we know"
   ]
  },
  {
   "cell_type": "code",
   "execution_count": 6,
   "id": "675b9cf5",
   "metadata": {},
   "outputs": [
    {
     "data": {
      "text/plain": [
       "array([[325.25],\n",
       "       [331.27],\n",
       "       [329.83],\n",
       "       ...,\n",
       "       [793.7 ],\n",
       "       [783.33],\n",
       "       [782.75]])"
      ]
     },
     "execution_count": 6,
     "metadata": {},
     "output_type": "execute_result"
    }
   ],
   "source": [
    "stock_training_set"
   ]
  },
  {
   "cell_type": "markdown",
   "id": "70c9d3e6",
   "metadata": {},
   "source": [
    "# Feature Scaling "
   ]
  },
  {
   "cell_type": "code",
   "execution_count": 7,
   "id": "b098146e",
   "metadata": {},
   "outputs": [],
   "source": [
    "from sklearn.preprocessing import MinMaxScaler\n",
    "#for stock price prediction we will be using normalization formula "
   ]
  },
  {
   "cell_type": "code",
   "execution_count": 8,
   "id": "cae098cc",
   "metadata": {},
   "outputs": [],
   "source": [
    "sc = MinMaxScaler(feature_range = (0,1))\n",
    "#now we will be applying the sc object to our data to effictively apply this normalization"
   ]
  },
  {
   "cell_type": "code",
   "execution_count": 9,
   "id": "41dc6b6a",
   "metadata": {},
   "outputs": [],
   "source": [
    "stock_training_set_scaled = sc.fit_transform(stock_training_set)\n",
    "#here fit means that we are going to take the min and max and apply it to the normalization formula"
   ]
  },
  {
   "cell_type": "code",
   "execution_count": 10,
   "id": "c7260a53",
   "metadata": {},
   "outputs": [
    {
     "data": {
      "text/plain": [
       "array([[0.08581368],\n",
       "       [0.09701243],\n",
       "       [0.09433366],\n",
       "       ...,\n",
       "       [0.95725128],\n",
       "       [0.93796041],\n",
       "       [0.93688146]])"
      ]
     },
     "execution_count": 10,
     "metadata": {},
     "output_type": "execute_result"
    }
   ],
   "source": [
    "stock_training_set_scaled"
   ]
  },
  {
   "cell_type": "code",
   "execution_count": 11,
   "id": "0dc2fdb5",
   "metadata": {},
   "outputs": [],
   "source": [
    "#now we are going to implement a data structure specifying what RNN needs to remember when predicting the next stock-\n",
    "#-price,this is called number of time steps"
   ]
  },
  {
   "cell_type": "code",
   "execution_count": 12,
   "id": "15253d39",
   "metadata": {},
   "outputs": [],
   "source": [
    "#we will create a data structure with 60 time steps and 1 output\n",
    "#this means that at each time 't' the RNN will look at 60 stock price before time 't'. and based on the trend it is-\n",
    "#-capturing during these 60 privious time steps it will try to predict the output. "
   ]
  },
  {
   "cell_type": "code",
   "execution_count": 13,
   "id": "b756dc00",
   "metadata": {},
   "outputs": [],
   "source": [
    "#this simply means that our RNN will try to learn from the privious 60 days of stock price and it will learn the -\n",
    "#-co-relation or some trends and based on its understanding it will try to predict the stock price. The Rnn will-\n",
    "#-predict the stock price at time 't+1'."
   ]
  },
  {
   "cell_type": "code",
   "execution_count": 14,
   "id": "a5f409e5",
   "metadata": {},
   "outputs": [],
   "source": [
    "#now we need to create two entities,\n",
    "#x-train which will be the input of the RNN \n",
    "#y-train which will be the output\n",
    "#here x train will contain the privious 60 financial days of stock price data and the y-train will give us the stock-\n",
    "#-price of the next financial day\n"
   ]
  },
  {
   "cell_type": "markdown",
   "id": "562bb49d",
   "metadata": {},
   "source": [
    "# Data structure to implement the above description"
   ]
  },
  {
   "cell_type": "code",
   "execution_count": 15,
   "id": "60e87f20",
   "metadata": {},
   "outputs": [],
   "source": [
    "x_train = []\n",
    "y_train = []\n",
    "for i in range(60,1258):\n",
    "    x_train.append(stock_training_set_scaled[i-60:i,0])\n",
    "    y_train.append(stock_training_set_scaled[i,0])\n",
    "    #as these are list,we need to convert them to numpy array as so the RNN will accept the data\n",
    "x_train,y_train = np.array(x_train),np.array(y_train)"
   ]
  },
  {
   "cell_type": "code",
   "execution_count": 16,
   "id": "9acad7c4",
   "metadata": {},
   "outputs": [
    {
     "data": {
      "text/plain": [
       "array([[0.08581368, 0.09701243, 0.09433366, ..., 0.07846566, 0.08034452,\n",
       "        0.08497656],\n",
       "       [0.09701243, 0.09433366, 0.09156187, ..., 0.08034452, 0.08497656,\n",
       "        0.08627874],\n",
       "       [0.09433366, 0.09156187, 0.07984225, ..., 0.08497656, 0.08627874,\n",
       "        0.08471612],\n",
       "       ...,\n",
       "       [0.92106928, 0.92438053, 0.93048218, ..., 0.95475854, 0.95204256,\n",
       "        0.95163331],\n",
       "       [0.92438053, 0.93048218, 0.9299055 , ..., 0.95204256, 0.95163331,\n",
       "        0.95725128],\n",
       "       [0.93048218, 0.9299055 , 0.93113327, ..., 0.95163331, 0.95725128,\n",
       "        0.93796041]])"
      ]
     },
     "execution_count": 16,
     "metadata": {},
     "output_type": "execute_result"
    }
   ],
   "source": [
    "x_train"
   ]
  },
  {
   "cell_type": "code",
   "execution_count": 17,
   "id": "276a7815",
   "metadata": {},
   "outputs": [],
   "source": [
    "#here 0.08581368 is the stock price of 60th day followed by privious 60 days of stock price\n",
    "#here 0.09701243 is the stock price of 61st day followed by privious 60 days of stock price"
   ]
  },
  {
   "cell_type": "code",
   "execution_count": 18,
   "id": "405ac581",
   "metadata": {},
   "outputs": [
    {
     "data": {
      "text/plain": [
       "array([0.08627874, 0.08471612, 0.07454052, ..., 0.95725128, 0.93796041,\n",
       "       0.93688146])"
      ]
     },
     "execution_count": 18,
     "metadata": {},
     "output_type": "execute_result"
    }
   ],
   "source": [
    "y_train\n"
   ]
  },
  {
   "cell_type": "code",
   "execution_count": 19,
   "id": "a424cd35",
   "metadata": {},
   "outputs": [],
   "source": [
    "#now we will be adding dimension. this dimension we will add is exactly a unit i.e the number of predictors we can-\n",
    "#-use to predict what we want i.e the stock price at time step t+1"
   ]
  },
  {
   "cell_type": "code",
   "execution_count": 20,
   "id": "c230af4c",
   "metadata": {},
   "outputs": [],
   "source": [
    "#for adding new dimension we use reshape function"
   ]
  },
  {
   "cell_type": "code",
   "execution_count": 21,
   "id": "4be31e06",
   "metadata": {},
   "outputs": [],
   "source": [
    "x_train = np.reshape(x_train,(x_train.shape[0],x_train.shape[1],1))"
   ]
  },
  {
   "cell_type": "markdown",
   "id": "ded80c06",
   "metadata": {},
   "source": [
    "# Building The RNN"
   ]
  },
  {
   "cell_type": "code",
   "execution_count": 22,
   "id": "6d0a3818",
   "metadata": {},
   "outputs": [],
   "source": [
    "from keras.models import Sequential\n",
    "from keras.layers import Dense\n",
    "from keras.layers import LSTM\n",
    "from keras.layers import Dropout"
   ]
  },
  {
   "cell_type": "code",
   "execution_count": 23,
   "id": "fc9fb90a",
   "metadata": {},
   "outputs": [],
   "source": [
    "regressor = Sequential() #this will represent the sequence of layers"
   ]
  },
  {
   "cell_type": "code",
   "execution_count": 24,
   "id": "2822f0fc",
   "metadata": {},
   "outputs": [],
   "source": [
    "#Adding the first LSTM layer and some Dropout regularisation"
   ]
  },
  {
   "cell_type": "code",
   "execution_count": 29,
   "id": "8858dd8a",
   "metadata": {},
   "outputs": [],
   "source": [
    "#here return_sequences is TURE because we want to make a stacked LSTM layer,if you dont want a stacked layer keep it as False.\n",
    "#input_shape contains last 2 dimensions corresponding to time step and indicators.\n",
    "#input shape is only require for the first LSTM layer"
   ]
  },
  {
   "cell_type": "code",
   "execution_count": 30,
   "id": "5bac88d6",
   "metadata": {},
   "outputs": [],
   "source": [
    "regressor.add(LSTM(units = 50, return_sequences = True, input_shape = (x_train.shape[1],1)))\n",
    "#with this out LSTM layer is created now lets add dropout regularisation"
   ]
  },
  {
   "cell_type": "code",
   "execution_count": 31,
   "id": "3359bba4",
   "metadata": {},
   "outputs": [],
   "source": [
    "regressor.add(Dropout(0.2))\n",
    "#here 20% of 50 is 10 so 10 neurons will be dropped out for each iteration of training"
   ]
  },
  {
   "cell_type": "code",
   "execution_count": 32,
   "id": "f7030a7a",
   "metadata": {},
   "outputs": [],
   "source": [
    "#2nd LSTM layer\n",
    "regressor.add(LSTM(units = 50 ,return_sequences = True))\n",
    "regressor.add(Dropout(0.2))"
   ]
  },
  {
   "cell_type": "code",
   "execution_count": 33,
   "id": "7cb9ba2f",
   "metadata": {},
   "outputs": [],
   "source": [
    "#3rd LSTM layer\n",
    "regressor.add(LSTM(units = 50 ,return_sequences = True))\n",
    "regressor.add(Dropout(0.2))"
   ]
  },
  {
   "cell_type": "code",
   "execution_count": 34,
   "id": "12d14ca0",
   "metadata": {},
   "outputs": [],
   "source": [
    "#4th LSTM layer\n",
    "#since this will be our last LSTM layer the return sequence will be False\n",
    "regressor.add(LSTM(units = 50 ,return_sequences = False))\n",
    "regressor.add(Dropout(0.2))"
   ]
  },
  {
   "cell_type": "code",
   "execution_count": 35,
   "id": "f28d33c6",
   "metadata": {},
   "outputs": [],
   "source": [
    "#Output layer\n",
    "\n",
    "#since our output layer will be fully connected to the LSTM layers we need to use the DENSE class.\n",
    "#the units will be equal to dimension of output layer which is 1 i.e the stock price at time t+1"
   ]
  },
  {
   "cell_type": "code",
   "execution_count": 36,
   "id": "f72bd869",
   "metadata": {},
   "outputs": [],
   "source": [
    "regressor.add(Dense(units = 1))"
   ]
  },
  {
   "cell_type": "markdown",
   "id": "5fee3ebb",
   "metadata": {},
   "source": [
    "# Compiling the RNN\n"
   ]
  },
  {
   "cell_type": "code",
   "execution_count": 37,
   "id": "b70cb9c7",
   "metadata": {},
   "outputs": [],
   "source": [
    "regressor.compile(optimizer = 'adam', loss = 'mean_squared_error')\n",
    "#as this is a regression problem we use loss as mean squared error"
   ]
  },
  {
   "cell_type": "markdown",
   "id": "7098e85c",
   "metadata": {},
   "source": [
    "# Fitting the RNN with Training Set"
   ]
  },
  {
   "cell_type": "code",
   "execution_count": 38,
   "id": "b1ea0227",
   "metadata": {},
   "outputs": [
    {
     "name": "stdout",
     "output_type": "stream",
     "text": [
      "Epoch 1/100\n",
      "38/38 [==============================] - 22s 195ms/step - loss: 0.0452\n",
      "Epoch 2/100\n",
      "38/38 [==============================] - 7s 187ms/step - loss: 0.0100\n",
      "Epoch 3/100\n",
      "38/38 [==============================] - 7s 188ms/step - loss: 0.0067\n",
      "Epoch 4/100\n",
      "38/38 [==============================] - 7s 194ms/step - loss: 0.0069\n",
      "Epoch 5/100\n",
      "38/38 [==============================] - 7s 194ms/step - loss: 0.0059\n",
      "Epoch 6/100\n",
      "38/38 [==============================] - 7s 195ms/step - loss: 0.0060\n",
      "Epoch 7/100\n",
      "38/38 [==============================] - 8s 203ms/step - loss: 0.0066\n",
      "Epoch 8/100\n",
      "38/38 [==============================] - 10s 254ms/step - loss: 0.0059\n",
      "Epoch 9/100\n",
      "38/38 [==============================] - 9s 228ms/step - loss: 0.0062\n",
      "Epoch 10/100\n",
      "38/38 [==============================] - 8s 204ms/step - loss: 0.0053\n",
      "Epoch 11/100\n",
      "38/38 [==============================] - 7s 197ms/step - loss: 0.0048\n",
      "Epoch 12/100\n",
      "38/38 [==============================] - 8s 198ms/step - loss: 0.0053\n",
      "Epoch 13/100\n",
      "38/38 [==============================] - 8s 210ms/step - loss: 0.0050\n",
      "Epoch 14/100\n",
      "38/38 [==============================] - 8s 212ms/step - loss: 0.0059\n",
      "Epoch 15/100\n",
      "38/38 [==============================] - 8s 206ms/step - loss: 0.0047\n",
      "Epoch 16/100\n",
      "38/38 [==============================] - 8s 212ms/step - loss: 0.0046\n",
      "Epoch 17/100\n",
      "38/38 [==============================] - 9s 247ms/step - loss: 0.0040\n",
      "Epoch 18/100\n",
      "38/38 [==============================] - 8s 224ms/step - loss: 0.0042\n",
      "Epoch 19/100\n",
      "38/38 [==============================] - 7s 196ms/step - loss: 0.0038\n",
      "Epoch 20/100\n",
      "38/38 [==============================] - 8s 210ms/step - loss: 0.0039\n",
      "Epoch 21/100\n",
      "38/38 [==============================] - 8s 219ms/step - loss: 0.0036\n",
      "Epoch 22/100\n",
      "38/38 [==============================] - 8s 207ms/step - loss: 0.0034\n",
      "Epoch 23/100\n",
      "38/38 [==============================] - 6s 156ms/step - loss: 0.0043\n",
      "Epoch 24/100\n",
      "38/38 [==============================] - 6s 163ms/step - loss: 0.0047\n",
      "Epoch 25/100\n",
      "38/38 [==============================] - 6s 154ms/step - loss: 0.0035\n",
      "Epoch 26/100\n",
      "38/38 [==============================] - 6s 154ms/step - loss: 0.0034\n",
      "Epoch 27/100\n",
      "38/38 [==============================] - 6s 153ms/step - loss: 0.0035\n",
      "Epoch 28/100\n",
      "38/38 [==============================] - 6s 150ms/step - loss: 0.0032\n",
      "Epoch 29/100\n",
      "38/38 [==============================] - 6s 151ms/step - loss: 0.0032\n",
      "Epoch 30/100\n",
      "38/38 [==============================] - 6s 152ms/step - loss: 0.0032\n",
      "Epoch 31/100\n",
      "38/38 [==============================] - 6s 151ms/step - loss: 0.0034\n",
      "Epoch 32/100\n",
      "38/38 [==============================] - 6s 150ms/step - loss: 0.0032\n",
      "Epoch 33/100\n",
      "38/38 [==============================] - 6s 151ms/step - loss: 0.0032\n",
      "Epoch 34/100\n",
      "38/38 [==============================] - 6s 150ms/step - loss: 0.0033\n",
      "Epoch 35/100\n",
      "38/38 [==============================] - 6s 151ms/step - loss: 0.0031\n",
      "Epoch 36/100\n",
      "38/38 [==============================] - 6s 150ms/step - loss: 0.0030\n",
      "Epoch 37/100\n",
      "38/38 [==============================] - 6s 150ms/step - loss: 0.0035\n",
      "Epoch 38/100\n",
      "38/38 [==============================] - 6s 151ms/step - loss: 0.0033\n",
      "Epoch 39/100\n",
      "38/38 [==============================] - 6s 151ms/step - loss: 0.0030\n",
      "Epoch 40/100\n",
      "38/38 [==============================] - 6s 151ms/step - loss: 0.0029\n",
      "Epoch 41/100\n",
      "38/38 [==============================] - 6s 150ms/step - loss: 0.0027\n",
      "Epoch 42/100\n",
      "38/38 [==============================] - 6s 151ms/step - loss: 0.0030\n",
      "Epoch 43/100\n",
      "38/38 [==============================] - 6s 151ms/step - loss: 0.0032\n",
      "Epoch 44/100\n",
      "38/38 [==============================] - 6s 150ms/step - loss: 0.0028\n",
      "Epoch 45/100\n",
      "38/38 [==============================] - 6s 150ms/step - loss: 0.0027\n",
      "Epoch 46/100\n",
      "38/38 [==============================] - 6s 152ms/step - loss: 0.0027\n",
      "Epoch 47/100\n",
      "38/38 [==============================] - 6s 150ms/step - loss: 0.0025\n",
      "Epoch 48/100\n",
      "38/38 [==============================] - 6s 150ms/step - loss: 0.0026\n",
      "Epoch 49/100\n",
      "38/38 [==============================] - 6s 151ms/step - loss: 0.0027\n",
      "Epoch 50/100\n",
      "38/38 [==============================] - 6s 154ms/step - loss: 0.0028\n",
      "Epoch 51/100\n",
      "38/38 [==============================] - 6s 150ms/step - loss: 0.0025\n",
      "Epoch 52/100\n",
      "38/38 [==============================] - 6s 151ms/step - loss: 0.0023\n",
      "Epoch 53/100\n",
      "38/38 [==============================] - 6s 151ms/step - loss: 0.0024\n",
      "Epoch 54/100\n",
      "38/38 [==============================] - 6s 151ms/step - loss: 0.0023\n",
      "Epoch 55/100\n",
      "38/38 [==============================] - 6s 151ms/step - loss: 0.0024\n",
      "Epoch 56/100\n",
      "38/38 [==============================] - 6s 158ms/step - loss: 0.0024\n",
      "Epoch 57/100\n",
      "38/38 [==============================] - 6s 159ms/step - loss: 0.0021\n",
      "Epoch 58/100\n",
      "38/38 [==============================] - 6s 160ms/step - loss: 0.0024\n",
      "Epoch 59/100\n",
      "38/38 [==============================] - 6s 153ms/step - loss: 0.0021\n",
      "Epoch 60/100\n",
      "38/38 [==============================] - 6s 152ms/step - loss: 0.0021\n",
      "Epoch 61/100\n",
      "38/38 [==============================] - 6s 151ms/step - loss: 0.0022\n",
      "Epoch 62/100\n",
      "38/38 [==============================] - 6s 152ms/step - loss: 0.0019\n",
      "Epoch 63/100\n",
      "38/38 [==============================] - 6s 151ms/step - loss: 0.0022\n",
      "Epoch 64/100\n",
      "38/38 [==============================] - 6s 152ms/step - loss: 0.0022\n",
      "Epoch 65/100\n",
      "38/38 [==============================] - 6s 151ms/step - loss: 0.0020\n",
      "Epoch 66/100\n",
      "38/38 [==============================] - 6s 152ms/step - loss: 0.0021\n",
      "Epoch 67/100\n",
      "38/38 [==============================] - 6s 151ms/step - loss: 0.0021\n",
      "Epoch 68/100\n",
      "38/38 [==============================] - 6s 153ms/step - loss: 0.0018\n",
      "Epoch 69/100\n",
      "38/38 [==============================] - 6s 165ms/step - loss: 0.0020\n",
      "Epoch 70/100\n",
      "38/38 [==============================] - 6s 160ms/step - loss: 0.0023\n",
      "Epoch 71/100\n",
      "38/38 [==============================] - 6s 159ms/step - loss: 0.0020\n",
      "Epoch 72/100\n",
      "38/38 [==============================] - 6s 156ms/step - loss: 0.0020\n",
      "Epoch 73/100\n",
      "38/38 [==============================] - 6s 151ms/step - loss: 0.0018\n",
      "Epoch 74/100\n",
      "38/38 [==============================] - 6s 152ms/step - loss: 0.0021\n",
      "Epoch 75/100\n",
      "38/38 [==============================] - 6s 155ms/step - loss: 0.0020\n",
      "Epoch 76/100\n",
      "38/38 [==============================] - 6s 159ms/step - loss: 0.0018\n",
      "Epoch 77/100\n",
      "38/38 [==============================] - 6s 154ms/step - loss: 0.0017\n",
      "Epoch 78/100\n",
      "38/38 [==============================] - 6s 152ms/step - loss: 0.0017\n",
      "Epoch 79/100\n",
      "38/38 [==============================] - 6s 154ms/step - loss: 0.0017\n",
      "Epoch 80/100\n",
      "38/38 [==============================] - 6s 153ms/step - loss: 0.0020\n",
      "Epoch 81/100\n",
      "38/38 [==============================] - 6s 152ms/step - loss: 0.0016\n",
      "Epoch 82/100\n",
      "38/38 [==============================] - 6s 152ms/step - loss: 0.0017\n",
      "Epoch 83/100\n",
      "38/38 [==============================] - 6s 152ms/step - loss: 0.0015\n",
      "Epoch 84/100\n",
      "38/38 [==============================] - 6s 152ms/step - loss: 0.0016\n",
      "Epoch 85/100\n",
      "38/38 [==============================] - 6s 151ms/step - loss: 0.0017\n",
      "Epoch 86/100\n",
      "38/38 [==============================] - 6s 152ms/step - loss: 0.0018\n",
      "Epoch 87/100\n",
      "38/38 [==============================] - 6s 152ms/step - loss: 0.0016\n",
      "Epoch 88/100\n",
      "38/38 [==============================] - 6s 151ms/step - loss: 0.0015\n",
      "Epoch 89/100\n",
      "38/38 [==============================] - 6s 151ms/step - loss: 0.0016\n",
      "Epoch 90/100\n",
      "38/38 [==============================] - 6s 152ms/step - loss: 0.0016\n",
      "Epoch 91/100\n",
      "38/38 [==============================] - 6s 154ms/step - loss: 0.0015\n",
      "Epoch 92/100\n",
      "38/38 [==============================] - 6s 152ms/step - loss: 0.0016\n",
      "Epoch 93/100\n",
      "38/38 [==============================] - 6s 152ms/step - loss: 0.0020\n",
      "Epoch 94/100\n",
      "38/38 [==============================] - 6s 151ms/step - loss: 0.0016\n",
      "Epoch 95/100\n",
      "38/38 [==============================] - 6s 152ms/step - loss: 0.0014\n",
      "Epoch 96/100\n",
      "38/38 [==============================] - 6s 152ms/step - loss: 0.0016\n",
      "Epoch 97/100\n",
      "38/38 [==============================] - 6s 152ms/step - loss: 0.0015\n",
      "Epoch 98/100\n",
      "38/38 [==============================] - 6s 153ms/step - loss: 0.0017\n",
      "Epoch 99/100\n"
     ]
    },
    {
     "name": "stdout",
     "output_type": "stream",
     "text": [
      "38/38 [==============================] - 6s 151ms/step - loss: 0.0015\n",
      "Epoch 100/100\n",
      "38/38 [==============================] - 6s 152ms/step - loss: 0.0013\n"
     ]
    },
    {
     "data": {
      "text/plain": [
       "<keras.callbacks.History at 0x140166538e0>"
      ]
     },
     "execution_count": 38,
     "metadata": {},
     "output_type": "execute_result"
    }
   ],
   "source": [
    "regressor.fit(x_train,y_train,epochs = 100,batch_size = 32)"
   ]
  },
  {
   "cell_type": "markdown",
   "id": "98e98c04",
   "metadata": {},
   "source": [
    "# Making the predictions"
   ]
  },
  {
   "cell_type": "code",
   "execution_count": null,
   "id": "207b64ce",
   "metadata": {},
   "outputs": [],
   "source": [
    "#getting the real stock price of 2017"
   ]
  },
  {
   "cell_type": "code",
   "execution_count": 39,
   "id": "665ed3e5",
   "metadata": {},
   "outputs": [],
   "source": [
    "stock_test = pd.read_csv('Google_Stock_Price_Test.csv')\n",
    "real_stock_price = stock_test.iloc[:,1:2].values"
   ]
  },
  {
   "cell_type": "code",
   "execution_count": 41,
   "id": "e4dcc007",
   "metadata": {},
   "outputs": [],
   "source": [
    "#Getting the predicted stock price"
   ]
  },
  {
   "cell_type": "code",
   "execution_count": 43,
   "id": "ff31a977",
   "metadata": {},
   "outputs": [],
   "source": [
    "dataset_total = pd.concat((stock_train['Open'],stock_test['Open']), axis = 0)\n",
    "inputs = dataset_total[len(dataset_total)-len(stock_test)-60:].values\n",
    "#here the len(dataset_total) will be the last day of january 2017 and the len(data_test) = 20, so this will give us january 3rd-\n",
    "#2017 which will be the first financial day of Jan 2017, and 60 is subtracted because we see the last 60 days stock price to-\n",
    "#predict the new stock price"
   ]
  },
  {
   "cell_type": "code",
   "execution_count": 44,
   "id": "8e73e024",
   "metadata": {},
   "outputs": [],
   "source": [
    "#the trick to reshape inputs is use reshape function of numpy"
   ]
  },
  {
   "cell_type": "code",
   "execution_count": 46,
   "id": "73c6bbf5",
   "metadata": {},
   "outputs": [],
   "source": [
    "inputs = inputs.reshape(-1,1)"
   ]
  },
  {
   "cell_type": "code",
   "execution_count": 48,
   "id": "3507b8be",
   "metadata": {},
   "outputs": [],
   "source": [
    "#with this we will get the inputs with differnt stock prices of january 3rd -3months in an inline column"
   ]
  },
  {
   "cell_type": "code",
   "execution_count": null,
   "id": "0e673c8e",
   "metadata": {},
   "outputs": [],
   "source": [
    "#Now lets scale our inputs"
   ]
  },
  {
   "cell_type": "code",
   "execution_count": 49,
   "id": "f21d3d4c",
   "metadata": {},
   "outputs": [],
   "source": [
    "inputs = sc.transform(inputs)"
   ]
  },
  {
   "cell_type": "code",
   "execution_count": 55,
   "id": "69b37b12",
   "metadata": {},
   "outputs": [],
   "source": [
    "#for each stock price of the day we will get the privious stock price  of 60 days \n",
    "x_test = []\n",
    "for i in range(60,80):\n",
    "    x_test.append(inputs[i-60:i,0])\n",
    "x_test = np.array(x_test)"
   ]
  },
  {
   "cell_type": "code",
   "execution_count": 56,
   "id": "a58c7813",
   "metadata": {},
   "outputs": [],
   "source": [
    "x_test = np.reshape(x_test,(x_test.shape[0],x_test.shape[1],1))"
   ]
  },
  {
   "cell_type": "code",
   "execution_count": 57,
   "id": "057ad157",
   "metadata": {},
   "outputs": [
    {
     "name": "stdout",
     "output_type": "stream",
     "text": [
      "1/1 [==============================] - 3s 3s/step\n"
     ]
    }
   ],
   "source": [
    "predicted_stock_price = regressor.predict(x_test)\n",
    "predicted_stock_price = sc.inverse_transform(predicted_stock_price)"
   ]
  },
  {
   "cell_type": "markdown",
   "id": "58046591",
   "metadata": {},
   "source": [
    "# Visualizing the results"
   ]
  },
  {
   "cell_type": "code",
   "execution_count": 64,
   "id": "2314e1af",
   "metadata": {},
   "outputs": [
    {
     "data": {
      "text/plain": [
       "<matplotlib.legend.Legend at 0x140287773a0>"
      ]
     },
     "execution_count": 64,
     "metadata": {},
     "output_type": "execute_result"
    },
    {
     "data": {
      "image/png": "[encoded data removed]",
      "text/plain": [
       "<Figure size 432x288 with 1 Axes>"
      ]
     },
     "metadata": {
      "needs_background": "light"
     },
     "output_type": "display_data"
    }
   ],
   "source": [
    "#real google stock price of Jan 2017\n",
    "plt.plot(real_stock_price, color='red',label='Real Google Stock Price')\n",
    "plt.plot(predicted_stock_price, color='blue',label='Predicted Google Stock Price')\n",
    "plt.title('Google Stock Price Prediction')\n",
    "plt.xlabel('Time')\n",
    "plt.ylabel('Price')\n",
    "plt.legend()"
   ]
  },
  {
   "cell_type": "code",
   "execution_count": null,
   "id": "51c6d1a0",
   "metadata": {},
   "outputs": [],
   "source": []
  },
  {
   "cell_type": "code",
   "execution_count": null,
   "id": "9cb19540",
   "metadata": {},
   "outputs": [],
   "source": []
  },
  {
   "cell_type": "code",
   "execution_count": null,
   "id": "ae34f5bf",
   "metadata": {},
   "outputs": [],
   "source": []
  },
  {
   "cell_type": "code",
   "execution_count": null,
   "id": "35a77cf3",
   "metadata": {},
   "outputs": [],
   "source": []
  },
  {
   "cell_type": "code",
   "execution_count": null,
   "id": "84eaabf4",
   "metadata": {},
   "outputs": [],
   "source": []
  },
  {
   "cell_type": "code",
   "execution_count": null,
   "id": "89aafe6e",
   "metadata": {},
   "outputs": [],
   "source": []
  },
  {
   "cell_type": "code",
   "execution_count": null,
   "id": "43fd3dfa",
   "metadata": {},
   "outputs": [],
   "source": []
  },
  {
   "cell_type": "code",
   "execution_count": null,
   "id": "4c866ee8",
   "metadata": {},
   "outputs": [],
   "source": []
  },
  {
   "cell_type": "code",
   "execution_count": null,
   "id": "a8e2f399",
   "metadata": {},
   "outputs": [],
   "source": []
  },
  {
   "cell_type": "code",
   "execution_count": null,
   "id": "b58b9f7c",
   "metadata": {},
   "outputs": [],
   "source": []
  }
 ],
 "metadata": {
  "kernelspec": {
   "display_name": "Python 3 (ipykernel)",
   "language": "python",
   "name": "python3"
  },
  "language_info": {
   "codemirror_mode": {
    "name": "ipython",
    "version": 3
   },
   "file_extension": ".py",
   "mimetype": "text/x-python",
   "name": "python",
   "nbconvert_exporter": "python",
   "pygments_lexer": "ipython3",
   "version": "3.9.7"
  }
 },
 "nbformat": 4,
 "nbformat_minor": 5
}
