{
 "cells": [
  {
   "cell_type": "code",
   "execution_count": 5,
   "id": "c2ea4fc5",
   "metadata": {},
   "outputs": [],
   "source": [
    "import pandas as pd\n",
    "import numpy as np \n",
    "import matplotlib.pyplot as plt"
   ]
  },
  {
   "cell_type": "markdown",
   "id": "7db031be",
   "metadata": {},
   "source": [
    "# Data Pre processing"
   ]
  },
  {
   "cell_type": "code",
   "execution_count": 9,
   "id": "15a45b04",
   "metadata": {},
   "outputs": [],
   "source": [
    "stock_train= pd.read_csv('Google_Stock_Price_Train.csv')\n"
   ]
  },
  {
   "cell_type": "code",
   "execution_count": 10,
   "id": "a6facda7",
   "metadata": {},
   "outputs": [
    {
     "data": {
      "text/html": [
       "<div>\n",
       "<style scoped>\n",
       "    .dataframe tbody tr th:only-of-type {\n",
       "        vertical-align: middle;\n",
       "    }\n",
       "\n",
       "    .dataframe tbody tr th {\n",
       "        vertical-align: top;\n",
       "    }\n",
       "\n",
       "    .dataframe thead th {\n",
       "        text-align: right;\n",
       "    }\n",
       "</style>\n",
       "<table border=\"1\" class=\"dataframe\">\n",
       "  <thead>\n",
       "    <tr style=\"text-align: right;\">\n",
       "      <th></th>\n",
       "      <th>Date</th>\n",
       "      <th>Open</th>\n",
       "      <th>High</th>\n",
       "      <th>Low</th>\n",
       "      <th>Close</th>\n",
       "      <th>Volume</th>\n",
       "    </tr>\n",
       "  </thead>\n",
       "  <tbody>\n",
       "    <tr>\n",
       "      <th>0</th>\n",
       "      <td>1/3/2012</td>\n",
       "      <td>325.25</td>\n",
       "      <td>332.83</td>\n",
       "      <td>324.97</td>\n",
       "      <td>663.59</td>\n",
       "      <td>7,380,500</td>\n",
       "    </tr>\n",
       "    <tr>\n",
       "      <th>1</th>\n",
       "      <td>1/4/2012</td>\n",
       "      <td>331.27</td>\n",
       "      <td>333.87</td>\n",
       "      <td>329.08</td>\n",
       "      <td>666.45</td>\n",
       "      <td>5,749,400</td>\n",
       "    </tr>\n",
       "    <tr>\n",
       "      <th>2</th>\n",
       "      <td>1/5/2012</td>\n",
       "      <td>329.83</td>\n",
       "      <td>330.75</td>\n",
       "      <td>326.89</td>\n",
       "      <td>657.21</td>\n",
       "      <td>6,590,300</td>\n",
       "    </tr>\n",
       "    <tr>\n",
       "      <th>3</th>\n",
       "      <td>1/6/2012</td>\n",
       "      <td>328.34</td>\n",
       "      <td>328.77</td>\n",
       "      <td>323.68</td>\n",
       "      <td>648.24</td>\n",
       "      <td>5,405,900</td>\n",
       "    </tr>\n",
       "    <tr>\n",
       "      <th>4</th>\n",
       "      <td>1/9/2012</td>\n",
       "      <td>322.04</td>\n",
       "      <td>322.29</td>\n",
       "      <td>309.46</td>\n",
       "      <td>620.76</td>\n",
       "      <td>11,688,800</td>\n",
       "    </tr>\n",
       "  </tbody>\n",
       "</table>\n",
       "</div>"
      ],
      "text/plain": [
       "       Date    Open    High     Low   Close      Volume\n",
       "0  1/3/2012  325.25  332.83  324.97  663.59   7,380,500\n",
       "1  1/4/2012  331.27  333.87  329.08  666.45   5,749,400\n",
       "2  1/5/2012  329.83  330.75  326.89  657.21   6,590,300\n",
       "3  1/6/2012  328.34  328.77  323.68  648.24   5,405,900\n",
       "4  1/9/2012  322.04  322.29  309.46  620.76  11,688,800"
      ]
     },
     "execution_count": 10,
     "metadata": {},
     "output_type": "execute_result"
    }
   ],
   "source": [
    "stock_train.head()"
   ]
  },
  {
   "cell_type": "code",
   "execution_count": 11,
   "id": "c931465a",
   "metadata": {},
   "outputs": [],
   "source": [
    "#in this we are going to predict the stock price for begining of a finiancfial day"
   ]
  },
  {
   "cell_type": "code",
   "execution_count": 19,
   "id": "3f1f81b4",
   "metadata": {},
   "outputs": [],
   "source": [
    "stock_training_set = stock_train.iloc[:,1:2].values #this will create a numpy array as we know"
   ]
  },
  {
   "cell_type": "code",
   "execution_count": 20,
   "id": "675b9cf5",
   "metadata": {},
   "outputs": [
    {
     "data": {
      "text/plain": [
       "array([[325.25],\n",
       "       [331.27],\n",
       "       [329.83],\n",
       "       ...,\n",
       "       [793.7 ],\n",
       "       [783.33],\n",
       "       [782.75]])"
      ]
     },
     "execution_count": 20,
     "metadata": {},
     "output_type": "execute_result"
    }
   ],
   "source": [
    "stock_training_set"
   ]
  },
  {
   "cell_type": "markdown",
   "id": "70c9d3e6",
   "metadata": {},
   "source": [
    "# Feature Scaling "
   ]
  },
  {
   "cell_type": "code",
   "execution_count": 14,
   "id": "b098146e",
   "metadata": {},
   "outputs": [],
   "source": [
    "from sklearn.preprocessing import MinMaxScaler\n",
    "#for stock price prediction we will be using normalization formula "
   ]
  },
  {
   "cell_type": "code",
   "execution_count": 16,
   "id": "cae098cc",
   "metadata": {},
   "outputs": [],
   "source": [
    "sc = MinMaxScaler(feature_range = (0,1))\n",
    "#now we will be applying the sc object to our data to effictively apply this normalization"
   ]
  },
  {
   "cell_type": "code",
   "execution_count": 17,
   "id": "41dc6b6a",
   "metadata": {},
   "outputs": [],
   "source": [
    "stock_training_set_scaled = sc.fit_transform(stock_training_set)\n",
    "#here fit means that we are going to take the min and max and apply it to the normalization formula"
   ]
  },
  {
   "cell_type": "code",
   "execution_count": 18,
   "id": "c7260a53",
   "metadata": {},
   "outputs": [
    {
     "data": {
      "text/plain": [
       "array([[0.08581368],\n",
       "       [0.09701243],\n",
       "       [0.09433366],\n",
       "       ...,\n",
       "       [0.95725128],\n",
       "       [0.93796041],\n",
       "       [0.93688146]])"
      ]
     },
     "execution_count": 18,
     "metadata": {},
     "output_type": "execute_result"
    }
   ],
   "source": [
    "stock_training_set_scaled"
   ]
  },
  {
   "cell_type": "code",
   "execution_count": 21,
   "id": "0dc2fdb5",
   "metadata": {},
   "outputs": [],
   "source": [
    "#now we are going to implement a data structure specifying what RNN needs to remember when predicting the next stock-\n",
    "#-price,this is called number of time steps"
   ]
  },
  {
   "cell_type": "code",
   "execution_count": 22,
   "id": "15253d39",
   "metadata": {},
   "outputs": [],
   "source": [
    "#we will create a data structure with 60 time steps and 1 output\n",
    "#this means that at each time 't' the RNN will look at 60 stock price before time 't'. and based on the trend it is-\n",
    "#-capturing during these 60 privious time steps it will try to predict the output. "
   ]
  },
  {
   "cell_type": "code",
   "execution_count": 23,
   "id": "b756dc00",
   "metadata": {},
   "outputs": [],
   "source": [
    "#this simply means that our RNN will try to learn from the privious 60 days of stock price and it will learn the -\n",
    "#-co-relation or some trends and based on its understanding it will try to predict the stock price. The Rnn will-\n",
    "#-predict the stock price at time 't+1'."
   ]
  },
  {
   "cell_type": "code",
   "execution_count": 24,
   "id": "a5f409e5",
   "metadata": {},
   "outputs": [],
   "source": [
    "#now we need to create two entities,\n",
    "#x-train which will be the input of the RNN \n",
    "#y-train which will be the output\n",
    "#here x train will contain the privious 60 financial days of stock price data and the y-train will give us the stock-\n",
    "#-price of the next financial day\n"
   ]
  },
  {
   "cell_type": "markdown",
   "id": "562bb49d",
   "metadata": {},
   "source": [
    "# Data structure to implement the above description"
   ]
  },
  {
   "cell_type": "code",
   "execution_count": 26,
   "id": "60e87f20",
   "metadata": {},
   "outputs": [],
   "source": [
    "x_train = []\n",
    "y_train = []\n",
    "for i in range(60,1258):\n",
    "    x_train.append(stock_training_set_scaled[i-60:i,0])\n",
    "    y_train.append(stock_training_set_scaled[i,0])\n",
    "    #as these are list,we need to convert them to numpy array as so the RNN will accept the data\n",
    "x_train,y_train = np.array(x_train),np.array(y_train)"
   ]
  },
  {
   "cell_type": "code",
   "execution_count": 27,
   "id": "9acad7c4",
   "metadata": {},
   "outputs": [
    {
     "data": {
      "text/plain": [
       "array([[0.08581368, 0.09701243, 0.09433366, ..., 0.07846566, 0.08034452,\n",
       "        0.08497656],\n",
       "       [0.09701243, 0.09433366, 0.09156187, ..., 0.08034452, 0.08497656,\n",
       "        0.08627874],\n",
       "       [0.09433366, 0.09156187, 0.07984225, ..., 0.08497656, 0.08627874,\n",
       "        0.08471612],\n",
       "       ...,\n",
       "       [0.92106928, 0.92438053, 0.93048218, ..., 0.95475854, 0.95204256,\n",
       "        0.95163331],\n",
       "       [0.92438053, 0.93048218, 0.9299055 , ..., 0.95204256, 0.95163331,\n",
       "        0.95725128],\n",
       "       [0.93048218, 0.9299055 , 0.93113327, ..., 0.95163331, 0.95725128,\n",
       "        0.93796041]])"
      ]
     },
     "execution_count": 27,
     "metadata": {},
     "output_type": "execute_result"
    }
   ],
   "source": [
    "x_train"
   ]
  },
  {
   "cell_type": "code",
   "execution_count": 28,
   "id": "276a7815",
   "metadata": {},
   "outputs": [],
   "source": [
    "#here 0.08581368 is the stock price of 60th day followed by privious 60 days of stock price\n",
    "#here 0.09701243 is the stock price of 61st day followed by privious 60 days of stock price"
   ]
  },
  {
   "cell_type": "code",
   "execution_count": 29,
   "id": "405ac581",
   "metadata": {},
   "outputs": [
    {
     "data": {
      "text/plain": [
       "array([0.08627874, 0.08471612, 0.07454052, ..., 0.95725128, 0.93796041,\n",
       "       0.93688146])"
      ]
     },
     "execution_count": 29,
     "metadata": {},
     "output_type": "execute_result"
    }
   ],
   "source": [
    "y_train\n"
   ]
  },
  {
   "cell_type": "code",
   "execution_count": 30,
   "id": "a424cd35",
   "metadata": {},
   "outputs": [],
   "source": [
    "#now we will be adding dimension. this dimension we will add is exactly a unit i.e the number of predictors we can-\n",
    "#-use to predict what we want i.e the stock price at time step t+1"
   ]
  },
  {
   "cell_type": "code",
   "execution_count": 31,
   "id": "c230af4c",
   "metadata": {},
   "outputs": [],
   "source": [
    "#for adding new dimension we use reshape function"
   ]
  },
  {
   "cell_type": "code",
   "execution_count": 32,
   "id": "4be31e06",
   "metadata": {},
   "outputs": [],
   "source": [
    "x_train = np.reshape(x_train,(x_train.shape[0],x_train.shape[1],1))"
   ]
  },
  {
   "cell_type": "markdown",
   "id": "ded80c06",
   "metadata": {},
   "source": [
    "# Building The RNN"
   ]
  },
  {
   "cell_type": "code",
   "execution_count": null,
   "id": "6d0a3818",
   "metadata": {},
   "outputs": [],
   "source": [
    "from keras.models import Sequential\n",
    "from keras.layers import Dense\n",
    "from keras.layers import LSTM\n",
    "from keras.layers import Dropout"
   ]
  },
  {
   "cell_type": "code",
   "execution_count": 1,
   "id": "fc9fb90a",
   "metadata": {},
   "outputs": [
    {
     "ename": "NameError",
     "evalue": "name 'Sequential' is not defined",
     "output_type": "error",
     "traceback": [
      "\u001b[0;31m---------------------------------------------------------------------------\u001b[0m",
      "\u001b[0;31mNameError\u001b[0m                                 Traceback (most recent call last)",
      "Input \u001b[0;32mIn [1]\u001b[0m, in \u001b[0;36m<cell line: 1>\u001b[0;34m()\u001b[0m\n\u001b[0;32m----> 1\u001b[0m regressor \u001b[38;5;241m=\u001b[39m \u001b[43mSequential\u001b[49m()\n",
      "\u001b[0;31mNameError\u001b[0m: name 'Sequential' is not defined"
     ]
    }
   ],
   "source": [
    "regressor = Sequential() #this will represent the sequence of layers"
   ]
  },
  {
   "cell_type": "code",
   "execution_count": null,
   "id": "2822f0fc",
   "metadata": {},
   "outputs": [],
   "source": []
  }
 ],
 "metadata": {
  "kernelspec": {
   "display_name": "Python 3 (ipykernel)",
   "language": "python",
   "name": "python3"
  },
  "language_info": {
   "codemirror_mode": {
    "name": "ipython",
    "version": 3
   },
   "file_extension": ".py",
   "mimetype": "text/x-python",
   "name": "python",
   "nbconvert_exporter": "python",
   "pygments_lexer": "ipython3",
   "version": "3.9.12"
  }
 },
 "nbformat": 4,
 "nbformat_minor": 5
}
